{
 "cells": [
  {
   "cell_type": "code",
   "execution_count": 1,
   "metadata": {
    "pycharm": {
     "name": "#%%\n"
    }
   },
   "outputs": [],
   "source": [
    "import numpy as np # linear algebra\n",
    "import pandas as pd # data processing, CSV file I/O (e.g. pd.read_csv)\n",
    "import os\n",
    "from glob import glob\n",
    "import matplotlib.pyplot as plt"
   ]
  },
  {
   "cell_type": "code",
   "execution_count": 2,
   "metadata": {
    "pycharm": {
     "name": "#%%\n"
    }
   },
   "outputs": [
    {
     "name": "stdout",
     "output_type": "stream",
     "text": [
      "Scans found: 112120 , Total Headers 112120\n"
     ]
    }
   ],
   "source": [
    "all_xray_df = pd.read_csv('./data/Data_Entry_2017.csv')\n",
    "all_image_paths = {os.path.basename(x): x for x in \n",
    "                   glob(os.path.join(os.getcwd(), './data/images_all', '*.png'))}\n",
    "print('Scans found:', len(all_image_paths), ', Total Headers', all_xray_df.shape[0])\n",
    "all_xray_df['path'] = all_xray_df['Image Index'].map(all_image_paths.get)"
   ]
  },
  {
   "cell_type": "code",
   "execution_count": 3,
   "metadata": {
    "pycharm": {
     "name": "#%%\n"
    }
   },
   "outputs": [],
   "source": [
    "all_xray_df['Finding Labels'] = all_xray_df['Finding Labels'].map(lambda x: x.replace('No Finding', ''))\n",
    "from itertools import chain\n",
    "all_labels = np.unique(list(chain(*all_xray_df['Finding Labels'].map(lambda x: x.split('|')).tolist())))\n",
    "all_labels = [x for x in all_labels if len(x)>0]"
   ]
  },
  {
   "cell_type": "code",
   "execution_count": 4,
   "metadata": {
    "pycharm": {
     "name": "#%%\n"
    }
   },
   "outputs": [],
   "source": [
    "for c_label in all_labels:\n",
    "    if len(c_label)>1: # leave out empty labels\n",
    "        all_xray_df[c_label] = all_xray_df['Finding Labels'].map(lambda finding: '1.0' if c_label in finding else '0')"
   ]
  },
  {
   "cell_type": "code",
   "execution_count": 5,
   "metadata": {
    "pycharm": {
     "name": "#%%\n"
    }
   },
   "outputs": [
    {
     "name": "stdout",
     "output_type": "stream",
     "text": [
      "train 87453 validation 24667\n"
     ]
    }
   ],
   "source": [
    "from sklearn.model_selection import train_test_split\n",
    "train_df, valid_df = train_test_split(all_xray_df, \n",
    "                                   test_size = 0.22, \n",
    "                                   random_state = 2137)\n",
    "print('train', train_df.shape[0], 'validation', valid_df.shape[0])"
   ]
  },
  {
   "cell_type": "code",
   "execution_count": 6,
   "metadata": {
    "pycharm": {
     "name": "#%%\n"
    }
   },
   "outputs": [
    {
     "name": "stderr",
     "output_type": "stream",
     "text": [
      "Using TensorFlow backend.\n"
     ]
    }
   ],
   "source": [
    "from keras.preprocessing.image import ImageDataGenerator\n",
    "IMG_SIZE = (256, 256)\n",
    "core_idg = ImageDataGenerator(samplewise_center=True, \n",
    "                              samplewise_std_normalization=True, \n",
    "                              horizontal_flip = True, \n",
    "                              vertical_flip = False, \n",
    "                              height_shift_range= 0.05, \n",
    "                              width_shift_range=0.1, \n",
    "                              rotation_range=5, \n",
    "                              shear_range = 0.1,\n",
    "                              fill_mode = 'reflect',\n",
    "                              zoom_range=0.15,\n",
    "                              brightness_range=[-0.2,0.2])"
   ]
  },
  {
   "cell_type": "code",
   "execution_count": 7,
   "metadata": {
    "pycharm": {
     "name": "#%%\n"
    }
   },
   "outputs": [],
   "source": [
    "all_xray_df['path'] = all_xray_df['Image Index'].map(lambda x: './data/images_all/'+x)"
   ]
  },
  {
   "cell_type": "code",
   "execution_count": 8,
   "metadata": {
    "pycharm": {
     "name": "#%%\n"
    }
   },
   "outputs": [
    {
     "name": "stdout",
     "output_type": "stream",
     "text": [
      "Found 87453 validated image filenames.\n",
      "Found 24667 validated image filenames.\n"
     ]
    }
   ],
   "source": [
    "columns=['Atelectasis','Cardiomegaly','Consolidation','Edema','Effusion','Emphysema','Fibrosis','Hernia','Infiltration',\n",
    " 'Mass',\n",
    " 'Nodule',\n",
    " 'Pleural_Thickening',\n",
    " 'Pneumonia',\n",
    " 'Pneumothorax']\n",
    "CLASS_MODE = 'raw'\n",
    "Y_COL = columns\n",
    "DIRESTORY = None\n",
    "X_COL = 'path'\n",
    "CLASSES = all_labels\n",
    "COLOR_MODE = 'rgb'\n",
    "\n",
    "train_gen=core_idg.flow_from_dataframe(\n",
    "                        dataframe=train_df,\n",
    "                        directory=DIRESTORY,\n",
    "                        x_col=X_COL,\n",
    "                        y_col=Y_COL,\n",
    "                        batch_size=20,\n",
    "                        color_mode = COLOR_MODE,\n",
    "                        class_mode=CLASS_MODE,\n",
    "                        target_size=IMG_SIZE)\n",
    "\n",
    "valid_gen=core_idg.flow_from_dataframe(\n",
    "                        dataframe=valid_df,\n",
    "                        directory=DIRESTORY,\n",
    "                        x_col=X_COL,\n",
    "                        y_col=Y_COL,\n",
    "                        batch_size=32,\n",
    "                        color_mode = COLOR_MODE,\n",
    "                        class_mode=CLASS_MODE,\n",
    "                        target_size=IMG_SIZE)"
   ]
  },
  {
   "cell_type": "code",
   "execution_count": 9,
   "metadata": {
    "pycharm": {
     "name": "#%%\n"
    }
   },
   "outputs": [],
   "source": [
    "all_xray_df['Finding Labels'] = all_xray_df['Finding Labels'].map(lambda x: x.replace('|', ','))"
   ]
  },
  {
   "cell_type": "code",
   "execution_count": 10,
   "metadata": {
    "pycharm": {
     "name": "#%%\n"
    }
   },
   "outputs": [
    {
     "name": "stderr",
     "output_type": "stream",
     "text": [
      "/home/dymkiewi/miniconda3/lib/python3.7/site-packages/sklearn/preprocessing/_label.py:987: UserWarning: unknown class(es) [''] will be ignored\n",
      "  .format(sorted(unknown, key=str)))\n"
     ]
    }
   ],
   "source": [
    "import keras.backend as K\n",
    "from sklearn.preprocessing import MultiLabelBinarizer\n",
    "\n",
    "\n",
    "classes = ['Atelectasis', 'Cardiomegaly', 'Consolidation',\n",
    "           'Edema', 'Effusion', 'Emphysema', \n",
    "           'Fibrosis', \"Infiltration\", 'Hernia', \n",
    "           \"Mass\", 'Nodule', 'Pleural_Thickening', \n",
    "           'Pneumonia', 'Pneumothorax']\n",
    "\n",
    "encoder = MultiLabelBinarizer(classes=classes)\n",
    "labels = encoder.fit_transform([c.split(\",\") for c in list(all_xray_df[\"Finding Labels\"])])\n",
    "\n",
    "def calculating_class_weights(y_true):\n",
    "    from sklearn.utils.class_weight import compute_class_weight\n",
    "    number_dim = np.shape(y_true)[1]\n",
    "    weights = np.empty([number_dim, 2])\n",
    "    for i in range(number_dim):\n",
    "        weights[i] = compute_class_weight('balanced', [0.,1.], y_true[:, i])\n",
    "    return weights\n",
    "\n",
    "\n",
    "class_weights = calculating_class_weights(labels)\n",
    "\n",
    "def get_weighted_loss(weights):\n",
    "    def weighted_loss(y_true, y_pred):\n",
    "        return K.mean((weights[:,0]**(1-y_true))*(weights[:,1]**(y_true))*K.binary_crossentropy(y_true, y_pred), axis=-1)\n",
    "    return weighted_loss"
   ]
  },
  {
   "cell_type": "code",
   "execution_count": 2,
   "metadata": {
    "pycharm": {
     "name": "#%%\n"
    }
   },
   "outputs": [
    {
     "name": "stderr",
     "output_type": "stream",
     "text": [
      "Using TensorFlow backend.\n"
     ]
    }
   ],
   "source": [
    "from keras_radam import RAdam\n",
    "from keras_lookahead import Lookahead\n",
    "\n",
    "\n",
    "#Lookahead(RAdam())\n",
    "ranger_optimizer = Lookahead(RAdam())\n",
    "# ranger_optimizer = 'adam'"
   ]
  },
  {
   "cell_type": "code",
   "execution_count": 1,
   "metadata": {
    "pycharm": {
     "name": "#%%\n"
    }
   },
   "outputs": [],
   "source": [
    "import os\n",
    "os.environ[\"CUDA_VISIBLE_DEVICES\"] = \"-1\""
   ]
  },
  {
   "cell_type": "code",
   "execution_count": 25,
   "metadata": {
    "pycharm": {
     "name": "#%%\n"
    }
   },
   "outputs": [],
   "source": [
    "# from sklearn.metrics import roc_auc_score\n",
    "\n",
    "# def auc_score(y_true, y_pred):\n",
    "#     return roc_auc_score(y_true, y_pred)"
   ]
  },
  {
   "cell_type": "code",
   "execution_count": 8,
   "metadata": {
    "pycharm": {
     "name": "#%%\n"
    }
   },
   "outputs": [],
   "source": [
    "from efficientnet.keras import EfficientNetB1\n",
    "import tensorflow as tf\n",
    "\n",
    "from keras.layers.normalization import BatchNormalization\n",
    "from keras.layers import GlobalAveragePooling2D, Dense, Dropout, Flatten, Activation\n",
    "from keras.models import Sequential\n",
    "from keras.metrics import AUC\n",
    "\n",
    "\n",
    "base_model = EfficientNetB1(input_shape =  (256,256,3), \n",
    "                                 include_top = False, weights = 'imagenet')\n",
    "multi_disease_model = Sequential()\n",
    "multi_disease_model.add(base_model)\n",
    "\n",
    "# multi_disease_model.add(MaxPooling2D(pool_size=2))\n",
    "multi_disease_model.add(GlobalAveragePooling2D())\n",
    "multi_disease_model.add(Dense(128))\n",
    "multi_disease_model.add(BatchNormalization())\n",
    "multi_disease_model.add(Activation('relu'))\n",
    "multi_disease_model.add(Dense(128))\n",
    "multi_disease_model.add(Activation('relu'))\n",
    "\n",
    "multi_disease_model.add(Dense(14, activation = 'sigmoid'))\n",
    "\n",
    "multi_disease_model.compile(optimizer = 'adam',\n",
    "                            loss = 'binary_crossentropy'\n",
    "#                             loss = get_weighted_loss(class_weights)\n",
    "                            ,metrics =[AUC(name='auc')])\n",
    "\n",
    "# multi_disease_model.summary()"
   ]
  },
  {
   "cell_type": "code",
   "execution_count": 9,
   "metadata": {
    "pycharm": {
     "name": "#%%\n"
    }
   },
   "outputs": [],
   "source": [
    "multi_disease_model.load_weights('./8423.hdf5')"
   ]
  },
  {
   "cell_type": "code",
   "execution_count": 14,
   "metadata": {
    "pycharm": {
     "name": "#%%\n"
    }
   },
   "outputs": [],
   "source": [
    "from keras.callbacks import ModelCheckpoint, LearningRateScheduler, EarlyStopping, ReduceLROnPlateau\n",
    "weight_path=\"{}_.hdf5\".format('our_split_imagenet_b2_adam_binary_crossentropy')\n",
    "\n",
    "checkpoint = ModelCheckpoint(weight_path, monitor='val_auc', verbose=1, \n",
    "                             save_best_only=True, mode='max', save_weights_only = True)\n",
    "\n",
    "early = EarlyStopping(monitor=\"val_auc\", \n",
    "                      mode=\"max\", \n",
    "                      patience=10,\n",
    "                     verbose = 1)\n",
    "callbacks_list = [checkpoint, early]"
   ]
  },
  {
   "cell_type": "code",
   "execution_count": null,
   "metadata": {
    "pycharm": {
     "name": "#%%\n"
    }
   },
   "outputs": [
    {
     "name": "stdout",
     "output_type": "stream",
     "text": [
      "Epoch 1/30\n",
      "3000/3000 [==============================] - 2143s 714ms/step - loss: 0.1704 - auc: 0.8067 - val_loss: 0.1922 - val_auc: 0.8064\n",
      "\n",
      "Epoch 00001: val_auc improved from -inf to 0.80636, saving model to our_split_imagenet_b2_adam_binary_crossentropy_.hdf5\n",
      "Epoch 2/30\n",
      "3000/3000 [==============================] - 2106s 702ms/step - loss: 0.1685 - auc: 0.8073 - val_loss: 0.1549 - val_auc: 0.8079\n",
      "\n",
      "Epoch 00002: val_auc improved from 0.80636 to 0.80793, saving model to our_split_imagenet_b2_adam_binary_crossentropy_.hdf5\n",
      "Epoch 3/30\n",
      "3000/3000 [==============================] - 2105s 702ms/step - loss: 0.1692 - auc: 0.8082 - val_loss: 0.2017 - val_auc: 0.8085\n",
      "\n",
      "Epoch 00003: val_auc improved from 0.80793 to 0.80848, saving model to our_split_imagenet_b2_adam_binary_crossentropy_.hdf5\n",
      "Epoch 4/30\n",
      "3000/3000 [==============================] - 2107s 702ms/step - loss: 0.1695 - auc: 0.8079 - val_loss: 0.1338 - val_auc: 0.8071\n",
      "\n",
      "Epoch 00004: val_auc did not improve from 0.80848\n",
      "Epoch 5/30\n",
      "3000/3000 [==============================] - 2104s 701ms/step - loss: 0.1689 - auc: 0.8065 - val_loss: 0.1266 - val_auc: 0.8047\n",
      "\n",
      "Epoch 00005: val_auc did not improve from 0.80848\n",
      "Epoch 6/30\n",
      "3000/3000 [==============================] - 2107s 702ms/step - loss: 0.1698 - auc: 0.8073 - val_loss: 0.1694 - val_auc: 0.8050\n",
      "\n",
      "Epoch 00006: val_auc did not improve from 0.80848\n",
      "Epoch 7/30\n",
      "3000/3000 [==============================] - 2108s 703ms/step - loss: 0.1682 - auc: 0.8098 - val_loss: 0.2182 - val_auc: 0.8076\n",
      "\n",
      "Epoch 00007: val_auc did not improve from 0.80848\n",
      "Epoch 8/30\n",
      "3000/3000 [==============================] - 2105s 702ms/step - loss: 0.1688 - auc: 0.8100 - val_loss: 0.1399 - val_auc: 0.8021\n",
      "\n",
      "Epoch 00008: val_auc did not improve from 0.80848\n",
      "Epoch 9/30\n",
      "3000/3000 [==============================] - 2104s 701ms/step - loss: 0.1687 - auc: 0.8090 - val_loss: 0.1587 - val_auc: 0.8089\n",
      "\n",
      "Epoch 00009: val_auc improved from 0.80848 to 0.80894, saving model to our_split_imagenet_b2_adam_binary_crossentropy_.hdf5\n",
      "Epoch 10/30\n",
      "3000/3000 [==============================] - 2106s 702ms/step - loss: 0.1683 - auc: 0.8097 - val_loss: 0.1481 - val_auc: 0.8066\n",
      "\n",
      "Epoch 00010: val_auc did not improve from 0.80894\n",
      "Epoch 11/30\n",
      "3000/3000 [==============================] - 2106s 702ms/step - loss: 0.1686 - auc: 0.8109 - val_loss: 0.2506 - val_auc: 0.8082\n",
      "\n",
      "Epoch 00011: val_auc did not improve from 0.80894\n",
      "Epoch 12/30\n",
      "3000/3000 [==============================] - 2105s 702ms/step - loss: 0.1688 - auc: 0.8107 - val_loss: 0.1718 - val_auc: 0.8085\n",
      "\n",
      "Epoch 00012: val_auc did not improve from 0.80894\n",
      "Epoch 13/30\n",
      "3000/3000 [==============================] - 2107s 702ms/step - loss: 0.1682 - auc: 0.8102 - val_loss: 0.1811 - val_auc: 0.8102\n",
      "\n",
      "Epoch 00013: val_auc improved from 0.80894 to 0.81023, saving model to our_split_imagenet_b2_adam_binary_crossentropy_.hdf5\n",
      "Epoch 14/30\n",
      "3000/3000 [==============================] - 2108s 703ms/step - loss: 0.1684 - auc: 0.8109 - val_loss: 0.1856 - val_auc: 0.8079\n",
      "\n",
      "Epoch 00014: val_auc did not improve from 0.81023\n",
      "Epoch 15/30\n",
      "3000/3000 [==============================] - 2106s 702ms/step - loss: 0.1672 - auc: 0.8125 - val_loss: 0.1752 - val_auc: 0.8101\n",
      "\n",
      "Epoch 00015: val_auc did not improve from 0.81023\n",
      "Epoch 16/30\n",
      "3000/3000 [==============================] - 2121s 707ms/step - loss: 0.1686 - auc: 0.8118 - val_loss: 0.1597 - val_auc: 0.8101\n",
      "\n",
      "Epoch 00016: val_auc did not improve from 0.81023\n",
      "Epoch 17/30\n",
      "3000/3000 [==============================] - 2104s 701ms/step - loss: 0.1674 - auc: 0.8138 - val_loss: 0.1906 - val_auc: 0.8088\n",
      "\n",
      "Epoch 00017: val_auc did not improve from 0.81023\n",
      "Epoch 18/30\n",
      "  40/3000 [..............................] - ETA: 26:32 - loss: 0.1788 - auc: 0.8032"
     ]
    }
   ],
   "source": [
    "history = multi_disease_model.fit_generator(train_gen, \n",
    "                                  steps_per_epoch=3000,\n",
    "                                  validation_data = valid_gen, \n",
    "#                                   validation_steps = 200,\n",
    "                                  epochs = 30, \n",
    "                                  callbacks = callbacks_list)"
   ]
  },
  {
   "cell_type": "code",
   "execution_count": 18,
   "metadata": {
    "pycharm": {
     "name": "#%%\n"
    }
   },
   "outputs": [],
   "source": [
    "multi_disease_model.save_weights('./77399_our_split_imagenet_b4_adam_binary_crossentropy')"
   ]
  },
  {
   "cell_type": "code",
   "execution_count": 15,
   "metadata": {
    "pycharm": {
     "name": "#%%\n"
    }
   },
   "outputs": [
    {
     "data": {
      "image/png": "[encoded data removed]",
      "text/plain": [
       "<Figure size 432x288 with 1 Axes>"
      ]
     },
     "metadata": {
      "needs_background": "light"
     },
     "output_type": "display_data"
    }
   ],
   "source": [
    "plt.plot(history.history['auc'], label='(training data auc)')\n",
    "plt.plot(history.history['val_auc'], label='(validation data auc)')\n",
    "\n",
    "plt.title('auc during the training')\n",
    "plt.ylabel('Loss value')\n",
    "plt.xlabel('No. epoch')\n",
    "plt.legend(loc=\"lower right\")\n",
    "plt.show()"
   ]
  },
  {
   "cell_type": "code",
   "execution_count": 16,
   "metadata": {
    "pycharm": {
     "name": "#%%\n"
    }
   },
   "outputs": [
    {
     "data": {
      "image/png": "[encoded data removed]",
      "text/plain": [
       "<Figure size 432x288 with 1 Axes>"
      ]
     },
     "metadata": {
      "needs_background": "light"
     },
     "output_type": "display_data"
    }
   ],
   "source": [
    "plt.plot(history.history['loss'], label='(training data loss)')\n",
    "plt.plot(history.history['val_loss'], label='(validation data loss)')\n",
    "\n",
    "plt.title('loss during the training')\n",
    "plt.ylabel('Loss value')\n",
    "plt.xlabel('No. epoch')\n",
    "plt.legend(loc=\"upper left\")\n",
    "plt.show()"
   ]
  },
  {
   "cell_type": "code",
   "execution_count": null,
   "metadata": {
    "pycharm": {
     "name": "#%%\n"
    }
   },
   "outputs": [],
   "source": [
    "test_X, test_Y = next(core_idg.flow_from_dataframe(\n",
    "                        dataframe=valid_df,\n",
    "                        directory=DIRESTORY,\n",
    "                        x_col=X_COL,\n",
    "                        y_col=Y_COL,\n",
    "                        batch_size=25596,\n",
    "                        color_mode = COLOR_MODE,\n",
    "                        class_mode=CLASS_MODE,\n",
    "                        target_size=IMG_SIZE))"
   ]
  },
  {
   "cell_type": "code",
   "execution_count": null,
   "metadata": {
    "pycharm": {
     "name": "#%%\n"
    }
   },
   "outputs": [],
   "source": [
    "pred_Y = multi_disease_model.predict(test_X, verbose = True)\n",
    "test_Y = test_Y.astype(np.float)\n",
    "roc_auc_score(test_Y, pred_Y)"
   ]
  },
  {
   "cell_type": "code",
   "execution_count": null,
   "metadata": {
    "pycharm": {
     "name": "#%%\n"
    }
   },
   "outputs": [],
   "source": [
    "from sklearn.metrics import roc_curve, auc\n",
    "avg = []\n",
    "fig, c_ax = plt.subplots(1,1, figsize = (9, 9))\n",
    "for (idx, c_label) in enumerate(all_labels):\n",
    "    fpr, tpr, thresholds = roc_curve(test_Y[:,idx].astype(int), pred_Y[:,idx])\n",
    "    c_ax.plot(fpr, tpr, label = '%s (AUC:%0.4f)'  % (c_label, auc(fpr, tpr)))\n",
    "    avg.append(auc(fpr, tpr).astype(np.float))\n",
    "    \n",
    "print(sum(avg) / len(avg))\n",
    "c_ax.legend()\n",
    "c_ax.set_xlabel('False Positive Rate')\n",
    "c_ax.set_ylabel('True Positive Rate')\n"
   ]
  }
 ],
 "metadata": {
  "kernelspec": {
   "display_name": "Python 3",
   "language": "python",
   "name": "python3"
  },
  "language_info": {
   "codemirror_mode": {
    "name": "ipython",
    "version": 3
   },
   "file_extension": ".py",
   "mimetype": "text/x-python",
   "name": "python",
   "nbconvert_exporter": "python",
   "pygments_lexer": "ipython3",
   "version": "3.7.6"
  }
 },
 "nbformat": 4,
 "nbformat_minor": 4
}