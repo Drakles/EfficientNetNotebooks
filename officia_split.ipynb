{
 "cells": [
  {
   "cell_type": "code",
   "execution_count": 3,
   "metadata": {},
   "outputs": [],
   "source": [
    "import numpy as np # linear algebra\n",
    "import pandas as pd # data processing, CSV file I/O (e.g. pd.read_csv)\n",
    "import os\n",
    "from glob import glob\n",
    "import matplotlib.pyplot as plt"
   ]
  },
  {
   "cell_type": "code",
   "execution_count": 2,
   "metadata": {},
   "outputs": [
    {
     "name": "stdout",
     "output_type": "stream",
     "text": [
      "Scans found: 112120 , Total Headers 112120\n"
     ]
    }
   ],
   "source": [
    "all_xray_df = pd.read_csv('./data/Data_Entry_2017.csv')\n",
    "all_image_paths = {os.path.basename(x): x for x in \n",
    "                   glob(os.path.join(os.getcwd(), './data/images_all', '*.png'))}\n",
    "print('Scans found:', len(all_image_paths), ', Total Headers', all_xray_df.shape[0])\n",
    "all_xray_df['path'] = all_xray_df['Image Index'].map(all_image_paths.get)"
   ]
  },
  {
   "cell_type": "code",
   "execution_count": 4,
   "metadata": {},
   "outputs": [],
   "source": [
    "all_xray_df['Finding Labels'] = all_xray_df['Finding Labels'].map(lambda x: x.replace('No Finding', ''))\n",
    "from itertools import chain\n",
    "all_labels = np.unique(list(chain(*all_xray_df['Finding Labels'].map(lambda x: x.split('|')).tolist())))\n",
    "all_labels = [x for x in all_labels if len(x)>0]"
   ]
  },
  {
   "cell_type": "code",
   "execution_count": 5,
   "metadata": {},
   "outputs": [],
   "source": [
    "for c_label in all_labels:\n",
    "    if len(c_label)>1: # leave out empty labels\n",
    "        all_xray_df[c_label] = all_xray_df['Finding Labels'].map(lambda finding: '1.0' if c_label in finding else '0')"
   ]
  },
  {
   "cell_type": "code",
   "execution_count": 6,
   "metadata": {},
   "outputs": [],
   "source": [
    "train_val_list = pd.read_fwf('./data/train_val_list.txt', header=None)\n",
    "train_val_list = train_val_list.squeeze()\n",
    "train_df = all_xray_df.loc[all_xray_df['Image Index'].isin(train_val_list)]\n",
    "test_list = pd.read_fwf('./data/test_list.txt', header=None)\n",
    "test_list = test_list.squeeze()\n",
    "test_df = all_xray_df.loc[all_xray_df['Image Index'].isin(test_list)]"
   ]
  },
  {
   "cell_type": "code",
   "execution_count": 7,
   "metadata": {},
   "outputs": [
    {
     "name": "stderr",
     "output_type": "stream",
     "text": [
      "Using TensorFlow backend.\n"
     ]
    }
   ],
   "source": [
    "from keras.preprocessing.image import ImageDataGenerator\n",
    "IMG_SIZE = (256, 256)\n",
    "core_idg = ImageDataGenerator(samplewise_center=True, \n",
    "                              samplewise_std_normalization=True, \n",
    "                              horizontal_flip = True, \n",
    "                              vertical_flip = False, \n",
    "                              height_shift_range= 0.05, \n",
    "                              width_shift_range=0.1, \n",
    "                              rotation_range=5, \n",
    "                              shear_range = 0.1,\n",
    "                              fill_mode = 'reflect',\n",
    "                              zoom_range=0.15,\n",
    "                              brightness_range=[-0.2,0.2])"
   ]
  },
  {
   "cell_type": "code",
   "execution_count": 8,
   "metadata": {},
   "outputs": [],
   "source": [
    "all_xray_df['path'] = all_xray_df['Image Index'].map(lambda x: './data/images_all/'+x)"
   ]
  },
  {
   "cell_type": "code",
   "execution_count": 17,
   "metadata": {},
   "outputs": [
    {
     "name": "stdout",
     "output_type": "stream",
     "text": [
      "Found 86524 validated image filenames.\n",
      "Found 25596 validated image filenames.\n"
     ]
    }
   ],
   "source": [
    "columns=['Atelectasis','Cardiomegaly','Consolidation','Edema','Effusion','Emphysema','Fibrosis','Hernia','Infiltration',\n",
    " 'Mass',\n",
    " 'Nodule',\n",
    " 'Pleural_Thickening',\n",
    " 'Pneumonia',\n",
    " 'Pneumothorax']\n",
    "CLASS_MODE = 'raw'\n",
    "Y_COL = columns\n",
    "DIRESTORY = None\n",
    "X_COL = 'path'\n",
    "CLASSES = all_labels\n",
    "COLOR_MODE = 'rgb'\n",
    "\n",
    "train_gen=core_idg.flow_from_dataframe(\n",
    "                        dataframe=train_df,\n",
    "                        directory=DIRESTORY,\n",
    "                        x_col=X_COL,\n",
    "                        y_col=Y_COL,\n",
    "                        batch_size=4,\n",
    "                        color_mode = COLOR_MODE,\n",
    "                        class_mode=CLASS_MODE,\n",
    "                        target_size=IMG_SIZE)\n",
    "\n",
    "valid_gen=core_idg.flow_from_dataframe(\n",
    "                        dataframe=test_df,\n",
    "                        directory=DIRESTORY,\n",
    "                        x_col=X_COL,\n",
    "                        y_col=Y_COL,\n",
    "                        batch_size=12,\n",
    "                        color_mode = COLOR_MODE,\n",
    "                        class_mode=CLASS_MODE,\n",
    "                        target_size=IMG_SIZE)"
   ]
  },
  {
   "cell_type": "code",
   "execution_count": 18,
   "metadata": {},
   "outputs": [],
   "source": [
    "all_xray_df['Finding Labels'] = all_xray_df['Finding Labels'].map(lambda x: x.replace('|', ','))"
   ]
  },
  {
   "cell_type": "code",
   "execution_count": 10,
   "metadata": {},
   "outputs": [
    {
     "name": "stderr",
     "output_type": "stream",
     "text": [
      "/home/dymkiewi/miniconda3/lib/python3.7/site-packages/sklearn/preprocessing/_label.py:987: UserWarning: unknown class(es) [''] will be ignored\n",
      "  .format(sorted(unknown, key=str)))\n"
     ]
    }
   ],
   "source": [
    "import keras.backend as K\n",
    "from sklearn.preprocessing import MultiLabelBinarizer\n",
    "\n",
    "\n",
    "classes = ['Atelectasis', 'Cardiomegaly', 'Consolidation',\n",
    "           'Edema', 'Effusion', 'Emphysema', \n",
    "           'Fibrosis', \"Infiltration\", 'Hernia', \n",
    "           \"Mass\", 'Nodule', 'Pleural_Thickening', \n",
    "           'Pneumonia', 'Pneumothorax']\n",
    "\n",
    "encoder = MultiLabelBinarizer(classes=classes)\n",
    "labels = encoder.fit_transform([c.split(\",\") for c in list(all_xray_df[\"Finding Labels\"])])\n",
    "\n",
    "def calculating_class_weights(y_true):\n",
    "    from sklearn.utils.class_weight import compute_class_weight\n",
    "    number_dim = np.shape(y_true)[1]\n",
    "    weights = np.empty([number_dim, 2])\n",
    "    for i in range(number_dim):\n",
    "        weights[i] = compute_class_weight('balanced', [0.,1.], y_true[:, i])\n",
    "    return weights\n",
    "\n",
    "\n",
    "class_weights = calculating_class_weights(labels)\n",
    "\n",
    "def get_weighted_loss(weights):\n",
    "    def weighted_loss(y_true, y_pred):\n",
    "        return K.mean((weights[:,0]**(1-y_true))*(weights[:,1]**(y_true))*K.binary_crossentropy(y_true, y_pred), axis=-1)\n",
    "    return weighted_loss"
   ]
  },
  {
   "cell_type": "code",
   "execution_count": 12,
   "metadata": {},
   "outputs": [],
   "source": [
    "from keras_radam import RAdam\n",
    "from keras_lookahead import Lookahead\n",
    "\n",
    "\n",
    "#Lookahead(RAdam())\n",
    "# ranger_optimizer = Lookahead(RAdam())\n",
    "ranger_optimizer = 'adam'"
   ]
  },
  {
   "cell_type": "code",
   "execution_count": 25,
   "metadata": {},
   "outputs": [],
   "source": [
    "# from sklearn.metrics import roc_auc_score\n",
    "\n",
    "# def auc_score(y_true, y_pred):\n",
    "#     return roc_auc_score(y_true, y_pred)"
   ]
  },
  {
   "cell_type": "code",
   "execution_count": 13,
   "metadata": {},
   "outputs": [],
   "source": [
    "from efficientnet.keras import EfficientNetB6\n",
    "import tensorflow as tf\n",
    "\n",
    "from keras.layers.normalization import BatchNormalization\n",
    "from keras.layers import GlobalAveragePooling2D, Dense, Dropout, Flatten, Activation\n",
    "from keras.models import Sequential\n",
    "from keras.metrics import AUC\n",
    "\n",
    "\n",
    "base_model = EfficientNetB6(input_shape =  (256,256,3), \n",
    "                                 include_top = False, weights = 'imagenet')\n",
    "multi_disease_model = Sequential()\n",
    "multi_disease_model.add(base_model)\n",
    "\n",
    "# multi_disease_model.add(MaxPooling2D(pool_size=2))\n",
    "multi_disease_model.add(GlobalAveragePooling2D())\n",
    "multi_disease_model.add(Dense(128))\n",
    "multi_disease_model.add(BatchNormalization())\n",
    "multi_disease_model.add(Activation('relu'))\n",
    "multi_disease_model.add(Dense(128))\n",
    "multi_disease_model.add(Activation('relu'))\n",
    "\n",
    "multi_disease_model.add(Dense(len(all_labels), activation = 'sigmoid'))\n",
    "\n",
    "multi_disease_model.compile(optimizer = ranger_optimizer,\n",
    "                            loss = 'binary_crossentropy'\n",
    "#                             loss = get_weighted_loss(class_weights)\n",
    "                            ,metrics =[AUC(name='auc')])\n",
    "\n",
    "# multi_disease_model.summary()"
   ]
  },
  {
   "cell_type": "code",
   "execution_count": 15,
   "metadata": {},
   "outputs": [],
   "source": [
    "multi_disease_model.load_weights('./oficial_split_imagenet_b6_adam_binary_crossentropy_.hdf5')"
   ]
  },
  {
   "cell_type": "code",
   "execution_count": 16,
   "metadata": {},
   "outputs": [],
   "source": [
    "from keras.callbacks import ModelCheckpoint, LearningRateScheduler, EarlyStopping, ReduceLROnPlateau\n",
    "weight_path=\"{}_.hdf5\".format('oficial_split_imagenet_b6_adam_binary_crossentropy')\n",
    "\n",
    "checkpoint = ModelCheckpoint(weight_path, monitor='val_auc', verbose=1, \n",
    "                             save_best_only=True, mode='max', save_weights_only = True)\n",
    "\n",
    "early = EarlyStopping(monitor=\"val_auc\", \n",
    "                      mode=\"max\", \n",
    "                      patience=10,\n",
    "                     verbose = 1)\n",
    "callbacks_list = [checkpoint, early]"
   ]
  },
  {
   "cell_type": "code",
   "execution_count": null,
   "metadata": {},
   "outputs": [
    {
     "name": "stdout",
     "output_type": "stream",
     "text": [
      "Epoch 1/30\n",
      "10000/10000 [==============================] - 4786s 479ms/step - loss: 0.1637 - auc: 0.7491 - val_loss: 0.1790 - val_auc: 0.7236\n",
      "\n",
      "Epoch 00001: val_auc improved from -inf to 0.72357, saving model to oficial_split_imagenet_b6_adam_binary_crossentropy_.hdf5\n",
      "Epoch 2/30\n",
      "10000/10000 [==============================] - 4708s 471ms/step - loss: 0.1648 - auc: 0.7493 - val_loss: 0.6236 - val_auc: 0.6415\n",
      "\n",
      "Epoch 00002: val_auc did not improve from 0.72357\n",
      "Epoch 3/30\n",
      "10000/10000 [==============================] - 4710s 471ms/step - loss: 0.1640 - auc: 0.7486 - val_loss: 0.3041 - val_auc: 0.7244\n",
      "\n",
      "Epoch 00003: val_auc improved from 0.72357 to 0.72437, saving model to oficial_split_imagenet_b6_adam_binary_crossentropy_.hdf5\n",
      "Epoch 4/30\n",
      "10000/10000 [==============================] - 4707s 471ms/step - loss: 0.1646 - auc: 0.7525 - val_loss: 0.2273 - val_auc: 0.7227\n",
      "\n",
      "Epoch 00004: val_auc did not improve from 0.72437\n",
      "Epoch 5/30\n",
      "10000/10000 [==============================] - 4715s 471ms/step - loss: 0.1620 - auc: 0.7529 - val_loss: 0.1677 - val_auc: 0.7244\n",
      "\n",
      "Epoch 00005: val_auc did not improve from 0.72437\n",
      "Epoch 6/30\n",
      "10000/10000 [==============================] - 4713s 471ms/step - loss: 0.1648 - auc: 0.7513 - val_loss: 0.1886 - val_auc: 0.7260\n",
      "\n",
      "Epoch 00006: val_auc improved from 0.72437 to 0.72599, saving model to oficial_split_imagenet_b6_adam_binary_crossentropy_.hdf5\n",
      "Epoch 7/30\n",
      "10000/10000 [==============================] - 4714s 471ms/step - loss: 0.1633 - auc: 0.7508 - val_loss: 0.2093 - val_auc: 0.7255\n",
      "\n",
      "Epoch 00007: val_auc did not improve from 0.72599\n",
      "Epoch 8/30\n",
      "10000/10000 [==============================] - 4714s 471ms/step - loss: 0.1642 - auc: 0.7518 - val_loss: 0.2087 - val_auc: 0.7226\n",
      "\n",
      "Epoch 00008: val_auc did not improve from 0.72599\n",
      "Epoch 9/30\n",
      "10000/10000 [==============================] - 4716s 472ms/step - loss: 0.1633 - auc: 0.7529 - val_loss: 0.1564 - val_auc: 0.7203\n",
      "\n",
      "Epoch 00009: val_auc did not improve from 0.72599\n",
      "Epoch 10/30\n",
      "10000/10000 [==============================] - 4716s 472ms/step - loss: 0.1640 - auc: 0.7530 - val_loss: 0.1810 - val_auc: 0.7235\n",
      "\n",
      "Epoch 00010: val_auc did not improve from 0.72599\n",
      "Epoch 11/30\n",
      "10000/10000 [==============================] - 4716s 472ms/step - loss: 0.1631 - auc: 0.7504 - val_loss: 0.2272 - val_auc: 0.6956\n",
      "\n",
      "Epoch 00011: val_auc did not improve from 0.72599\n",
      "Epoch 12/30\n",
      "10000/10000 [==============================] - 4718s 472ms/step - loss: 0.1637 - auc: 0.7523 - val_loss: 1.5753 - val_auc: 0.6698\n",
      "\n",
      "Epoch 00012: val_auc did not improve from 0.72599\n",
      "Epoch 13/30\n",
      "10000/10000 [==============================] - 4720s 472ms/step - loss: 0.1640 - auc: 0.7516 - val_loss: 0.6053 - val_auc: 0.6721\n",
      "\n",
      "Epoch 00013: val_auc did not improve from 0.72599\n",
      "Epoch 14/30\n",
      " 9999/10000 [============================>.] - ETA: 0s - loss: 0.1627 - auc: 0.7521"
     ]
    }
   ],
   "source": [
    "history = multi_disease_model.fit_generator(train_gen, \n",
    "                                  steps_per_epoch=10000,\n",
    "                                  validation_data = valid_gen, \n",
    "#                                   validation_steps = 200,\n",
    "                                  epochs = 30, \n",
    "                                  callbacks = callbacks_list)"
   ]
  },
  {
   "cell_type": "code",
   "execution_count": 22,
   "metadata": {},
   "outputs": [
    {
     "data": {
      "image/png": "[encoded data removed]",
      "text/plain": [
       "<Figure size 432x288 with 1 Axes>"
      ]
     },
     "metadata": {
      "needs_background": "light"
     },
     "output_type": "display_data"
    }
   ],
   "source": [
    "# plt.plot(history.history['loss'], label='(training data loss)')\n",
    "# plt.plot(history.history['val_loss'], label='(validation data loss)')\n",
    "\n",
    "plt.plot(history.history['auc'], label='(training data auc)')\n",
    "plt.plot(history.history['val_auc'], label='(validation data auc)')\n",
    "\n",
    "plt.title('auc during the training')\n",
    "plt.ylabel('Loss value')\n",
    "plt.xlabel('No. epoch')\n",
    "plt.legend(loc=\"lower right\")\n",
    "plt.show()"
   ]
  },
  {
   "cell_type": "code",
   "execution_count": 20,
   "metadata": {},
   "outputs": [
    {
     "data": {
      "image/png": "[encoded data removed]",
      "text/plain": [
       "<Figure size 432x288 with 1 Axes>"
      ]
     },
     "metadata": {
      "needs_background": "light"
     },
     "output_type": "display_data"
    }
   ],
   "source": [
    "plt.plot(history.history['loss'], label='(training data loss)')\n",
    "plt.plot(history.history['val_loss'], label='(validation data loss)')\n",
    "\n",
    "plt.title('loss during the training')\n",
    "plt.ylabel('Loss value')\n",
    "plt.xlabel('No. epoch')\n",
    "plt.legend(loc=\"upper left\")\n",
    "plt.show()"
   ]
  },
  {
   "cell_type": "code",
   "execution_count": null,
   "metadata": {},
   "outputs": [],
   "source": [
    "test_X, test_Y = next(core_idg.flow_from_dataframe(\n",
    "                        dataframe=valid_df,\n",
    "                        directory=DIRESTORY,\n",
    "                        x_col=X_COL,\n",
    "                        y_col=Y_COL,\n",
    "                        batch_size=25596,\n",
    "                        color_mode = COLOR_MODE,\n",
    "                        class_mode=CLASS_MODE,\n",
    "                        target_size=IMG_SIZE))"
   ]
  },
  {
   "cell_type": "code",
   "execution_count": null,
   "metadata": {},
   "outputs": [],
   "source": [
    "pred_Y = multi_disease_model.predict(test_X, verbose = True)\n",
    "test_Y = test_Y.astype(np.float)\n",
    "roc_auc_score(test_Y, pred_Y)"
   ]
  },
  {
   "cell_type": "code",
   "execution_count": null,
   "metadata": {},
   "outputs": [],
   "source": [
    "from sklearn.metrics import roc_curve, auc\n",
    "avg = []\n",
    "fig, c_ax = plt.subplots(1,1, figsize = (9, 9))\n",
    "for (idx, c_label) in enumerate(all_labels):\n",
    "    fpr, tpr, thresholds = roc_curve(test_Y[:,idx].astype(int), pred_Y[:,idx])\n",
    "    c_ax.plot(fpr, tpr, label = '%s (AUC:%0.4f)'  % (c_label, auc(fpr, tpr)))\n",
    "    avg.append(auc(fpr, tpr).astype(np.float))\n",
    "    \n",
    "print(sum(avg) / len(avg))\n",
    "c_ax.legend()\n",
    "c_ax.set_xlabel('False Positive Rate')\n",
    "c_ax.set_ylabel('True Positive Rate')"
   ]
  }
 ],
 "metadata": {
  "kernelspec": {
   "display_name": "Python 3",
   "language": "python",
   "name": "python3"
  },
  "language_info": {
   "codemirror_mode": {
    "name": "ipython",
    "version": 3
   },
   "file_extension": ".py",
   "mimetype": "text/x-python",
   "name": "python",
   "nbconvert_exporter": "python",
   "pygments_lexer": "ipython3",
   "version": "3.8.2"
  }
 },
 "nbformat": 4,
 "nbformat_minor": 4
}
